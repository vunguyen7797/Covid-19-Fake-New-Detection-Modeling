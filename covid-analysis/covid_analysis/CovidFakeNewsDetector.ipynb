{
 "cells": [
  {
   "cell_type": "code",
   "execution_count": 191,
   "id": "20c89a86",
   "metadata": {},
   "outputs": [],
   "source": [
    "# Basic libraries\n",
    "import pandas as pd\n",
    "import numpy as np\n",
    "\n",
    "# Visualization libraries\n",
    "import matplotlib.pyplot as plt\n",
    "import seaborn as sb\n",
    "\n",
    "# NLP libraries\n",
    "from nltk.tokenize import word_tokenize\n",
    "from nltk.corpus import stopwords\n",
    "from nltk.stem.porter import PorterStemmer\n",
    "from nltk.stem.wordnet import WordNetLemmatizer\n",
    "import string\n",
    "\n",
    "# Modelling libraries\n",
    "from sklearn.feature_extraction.text import CountVectorizer\n",
    "from sklearn.feature_extraction.text import TfidfTransformer\n",
    "from sklearn.feature_extraction.text import TfidfVectorizer\n",
    "from sklearn.pipeline import Pipeline\n",
    "from sklearn.naive_bayes import MultinomialNB\n",
    "from sklearn.linear_model import  LogisticRegression\n",
    "from sklearn.ensemble import RandomForestClassifier\n",
    "from sklearn import svm\n",
    "\n",
    "# Model evaluation libraries\n",
    "from sklearn.model_selection import GridSearchCV\n",
    "from sklearn.model_selection import learning_curve\n",
    "from sklearn.model_selection import KFold\n",
    "from sklearn.metrics import precision_recall_curve\n",
    "from sklearn.metrics import average_precision_score\n",
    "from sklearn.metrics import confusion_matrix, f1_score, classification_report, accuracy_score, recall_score, precision_score,roc_auc_score"
   ]
  },
  {
   "cell_type": "markdown",
   "id": "4c78d608",
   "metadata": {},
   "source": [
    "## DATA COLLECTION"
   ]
  },
  {
   "cell_type": "code",
   "execution_count": 192,
   "id": "58d5f65e",
   "metadata": {},
   "outputs": [],
   "source": [
    "train_df = pd.read_csv(\"data/Constraint_Train.csv\")\n",
    "valid_df = pd.read_csv(\"data/Constraint_Val.csv\")\n",
    "test_df = pd.read_csv(\"data/english_test_with_labels.csv\")"
   ]
  },
  {
   "cell_type": "markdown",
   "id": "e37ba8ba",
   "metadata": {},
   "source": [
    "## Train dataset Overview"
   ]
  },
  {
   "cell_type": "code",
   "execution_count": 193,
   "id": "30275d66",
   "metadata": {},
   "outputs": [
    {
     "name": "stdout",
     "output_type": "stream",
     "text": [
      "Shape: (6420, 3)\n"
     ]
    },
    {
     "data": {
      "text/html": [
       "<div>\n",
       "<style scoped>\n",
       "    .dataframe tbody tr th:only-of-type {\n",
       "        vertical-align: middle;\n",
       "    }\n",
       "\n",
       "    .dataframe tbody tr th {\n",
       "        vertical-align: top;\n",
       "    }\n",
       "\n",
       "    .dataframe thead th {\n",
       "        text-align: right;\n",
       "    }\n",
       "</style>\n",
       "<table border=\"1\" class=\"dataframe\">\n",
       "  <thead>\n",
       "    <tr style=\"text-align: right;\">\n",
       "      <th></th>\n",
       "      <th>tweet</th>\n",
       "      <th>label</th>\n",
       "    </tr>\n",
       "  </thead>\n",
       "  <tbody>\n",
       "    <tr>\n",
       "      <th>0</th>\n",
       "      <td>The CDC currently reports 99031 deaths. In gen...</td>\n",
       "      <td>real</td>\n",
       "    </tr>\n",
       "    <tr>\n",
       "      <th>1</th>\n",
       "      <td>States reported 1121 deaths a small rise from ...</td>\n",
       "      <td>real</td>\n",
       "    </tr>\n",
       "    <tr>\n",
       "      <th>2</th>\n",
       "      <td>Politically Correct Woman (Almost) Uses Pandem...</td>\n",
       "      <td>fake</td>\n",
       "    </tr>\n",
       "    <tr>\n",
       "      <th>3</th>\n",
       "      <td>#IndiaFightsCorona: We have 1524 #COVID testin...</td>\n",
       "      <td>real</td>\n",
       "    </tr>\n",
       "    <tr>\n",
       "      <th>4</th>\n",
       "      <td>Populous states can generate large case counts...</td>\n",
       "      <td>real</td>\n",
       "    </tr>\n",
       "  </tbody>\n",
       "</table>\n",
       "</div>"
      ],
      "text/plain": [
       "                                               tweet label\n",
       "0  The CDC currently reports 99031 deaths. In gen...  real\n",
       "1  States reported 1121 deaths a small rise from ...  real\n",
       "2  Politically Correct Woman (Almost) Uses Pandem...  fake\n",
       "3  #IndiaFightsCorona: We have 1524 #COVID testin...  real\n",
       "4  Populous states can generate large case counts...  real"
      ]
     },
     "execution_count": 193,
     "metadata": {},
     "output_type": "execute_result"
    }
   ],
   "source": [
    "print(\"Shape:\", train_df.shape)\n",
    "\n",
    "# Drop the Id attribute in the train dataset\n",
    "train_df = train_df.drop(['id'], axis=1)\n",
    "train_df.head()"
   ]
  },
  {
   "cell_type": "code",
   "execution_count": 194,
   "id": "f796af62",
   "metadata": {},
   "outputs": [
    {
     "name": "stdout",
     "output_type": "stream",
     "text": [
      "<class 'pandas.core.frame.DataFrame'>\n",
      "RangeIndex: 6420 entries, 0 to 6419\n",
      "Data columns (total 2 columns):\n",
      " #   Column  Non-Null Count  Dtype \n",
      "---  ------  --------------  ----- \n",
      " 0   tweet   6420 non-null   object\n",
      " 1   label   6420 non-null   object\n",
      "dtypes: object(2)\n",
      "memory usage: 100.4+ KB\n"
     ]
    }
   ],
   "source": [
    "# Make sure that there is no null value in the train dataset\n",
    "train_df.isnull().sum()\n",
    "train_df.info()"
   ]
  },
  {
   "cell_type": "code",
   "execution_count": 195,
   "id": "03c8876f",
   "metadata": {},
   "outputs": [
    {
     "data": {
      "text/html": [
       "<div>\n",
       "<style scoped>\n",
       "    .dataframe tbody tr th:only-of-type {\n",
       "        vertical-align: middle;\n",
       "    }\n",
       "\n",
       "    .dataframe tbody tr th {\n",
       "        vertical-align: top;\n",
       "    }\n",
       "\n",
       "    .dataframe thead th {\n",
       "        text-align: right;\n",
       "    }\n",
       "</style>\n",
       "<table border=\"1\" class=\"dataframe\">\n",
       "  <thead>\n",
       "    <tr style=\"text-align: right;\">\n",
       "      <th></th>\n",
       "      <th>tweet</th>\n",
       "      <th>label</th>\n",
       "    </tr>\n",
       "  </thead>\n",
       "  <tbody>\n",
       "    <tr>\n",
       "      <th>count</th>\n",
       "      <td>6420</td>\n",
       "      <td>6420</td>\n",
       "    </tr>\n",
       "    <tr>\n",
       "      <th>unique</th>\n",
       "      <td>6420</td>\n",
       "      <td>2</td>\n",
       "    </tr>\n",
       "    <tr>\n",
       "      <th>top</th>\n",
       "      <td>BREAKING! Trump fans get busy injecting bleach...</td>\n",
       "      <td>real</td>\n",
       "    </tr>\n",
       "    <tr>\n",
       "      <th>freq</th>\n",
       "      <td>1</td>\n",
       "      <td>3360</td>\n",
       "    </tr>\n",
       "  </tbody>\n",
       "</table>\n",
       "</div>"
      ],
      "text/plain": [
       "                                                    tweet label\n",
       "count                                                6420  6420\n",
       "unique                                               6420     2\n",
       "top     BREAKING! Trump fans get busy injecting bleach...  real\n",
       "freq                                                    1  3360"
      ]
     },
     "execution_count": 195,
     "metadata": {},
     "output_type": "execute_result"
    }
   ],
   "source": [
    "# Train data description\n",
    "train_df.describe()"
   ]
  },
  {
   "cell_type": "code",
   "execution_count": 196,
   "id": "830183fc",
   "metadata": {},
   "outputs": [
    {
     "data": {
      "text/html": [
       "<div>\n",
       "<style scoped>\n",
       "    .dataframe tbody tr th:only-of-type {\n",
       "        vertical-align: middle;\n",
       "    }\n",
       "\n",
       "    .dataframe tbody tr th {\n",
       "        vertical-align: top;\n",
       "    }\n",
       "\n",
       "    .dataframe thead th {\n",
       "        text-align: right;\n",
       "    }\n",
       "</style>\n",
       "<table border=\"1\" class=\"dataframe\">\n",
       "  <thead>\n",
       "    <tr style=\"text-align: right;\">\n",
       "      <th></th>\n",
       "      <th>tweet</th>\n",
       "      <th>label</th>\n",
       "    </tr>\n",
       "  </thead>\n",
       "  <tbody>\n",
       "    <tr>\n",
       "      <th>0</th>\n",
       "      <td>The CDC currently reports 99031 deaths. In gen...</td>\n",
       "      <td>1</td>\n",
       "    </tr>\n",
       "    <tr>\n",
       "      <th>1</th>\n",
       "      <td>States reported 1121 deaths a small rise from ...</td>\n",
       "      <td>1</td>\n",
       "    </tr>\n",
       "    <tr>\n",
       "      <th>2</th>\n",
       "      <td>Politically Correct Woman (Almost) Uses Pandem...</td>\n",
       "      <td>0</td>\n",
       "    </tr>\n",
       "    <tr>\n",
       "      <th>3</th>\n",
       "      <td>#IndiaFightsCorona: We have 1524 #COVID testin...</td>\n",
       "      <td>1</td>\n",
       "    </tr>\n",
       "    <tr>\n",
       "      <th>4</th>\n",
       "      <td>Populous states can generate large case counts...</td>\n",
       "      <td>1</td>\n",
       "    </tr>\n",
       "  </tbody>\n",
       "</table>\n",
       "</div>"
      ],
      "text/plain": [
       "                                               tweet  label\n",
       "0  The CDC currently reports 99031 deaths. In gen...      1\n",
       "1  States reported 1121 deaths a small rise from ...      1\n",
       "2  Politically Correct Woman (Almost) Uses Pandem...      0\n",
       "3  #IndiaFightsCorona: We have 1524 #COVID testin...      1\n",
       "4  Populous states can generate large case counts...      1"
      ]
     },
     "execution_count": 196,
     "metadata": {},
     "output_type": "execute_result"
    }
   ],
   "source": [
    "# Replace label into binary values\n",
    "train_df['label'] = train_df['label'].map({\"real\":1, \"fake\": 0})\n",
    "train_df.head()"
   ]
  },
  {
   "cell_type": "markdown",
   "id": "78752260",
   "metadata": {},
   "source": [
    "## Validation dataset Overview"
   ]
  },
  {
   "cell_type": "code",
   "execution_count": 197,
   "id": "454f378c",
   "metadata": {},
   "outputs": [
    {
     "name": "stdout",
     "output_type": "stream",
     "text": [
      "Shape: (2140, 3)\n"
     ]
    },
    {
     "data": {
      "text/html": [
       "<div>\n",
       "<style scoped>\n",
       "    .dataframe tbody tr th:only-of-type {\n",
       "        vertical-align: middle;\n",
       "    }\n",
       "\n",
       "    .dataframe tbody tr th {\n",
       "        vertical-align: top;\n",
       "    }\n",
       "\n",
       "    .dataframe thead th {\n",
       "        text-align: right;\n",
       "    }\n",
       "</style>\n",
       "<table border=\"1\" class=\"dataframe\">\n",
       "  <thead>\n",
       "    <tr style=\"text-align: right;\">\n",
       "      <th></th>\n",
       "      <th>tweet</th>\n",
       "      <th>label</th>\n",
       "    </tr>\n",
       "  </thead>\n",
       "  <tbody>\n",
       "    <tr>\n",
       "      <th>0</th>\n",
       "      <td>Chinese converting to Islam after realising th...</td>\n",
       "      <td>fake</td>\n",
       "    </tr>\n",
       "    <tr>\n",
       "      <th>1</th>\n",
       "      <td>11 out of 13 people (from the Diamond Princess...</td>\n",
       "      <td>fake</td>\n",
       "    </tr>\n",
       "    <tr>\n",
       "      <th>2</th>\n",
       "      <td>COVID-19 Is Caused By A Bacterium, Not Virus A...</td>\n",
       "      <td>fake</td>\n",
       "    </tr>\n",
       "    <tr>\n",
       "      <th>3</th>\n",
       "      <td>Mike Pence in RNC speech praises Donald Trump’...</td>\n",
       "      <td>fake</td>\n",
       "    </tr>\n",
       "    <tr>\n",
       "      <th>4</th>\n",
       "      <td>6/10 Sky's @EdConwaySky explains the latest #C...</td>\n",
       "      <td>real</td>\n",
       "    </tr>\n",
       "  </tbody>\n",
       "</table>\n",
       "</div>"
      ],
      "text/plain": [
       "                                               tweet label\n",
       "0  Chinese converting to Islam after realising th...  fake\n",
       "1  11 out of 13 people (from the Diamond Princess...  fake\n",
       "2  COVID-19 Is Caused By A Bacterium, Not Virus A...  fake\n",
       "3  Mike Pence in RNC speech praises Donald Trump’...  fake\n",
       "4  6/10 Sky's @EdConwaySky explains the latest #C...  real"
      ]
     },
     "execution_count": 197,
     "metadata": {},
     "output_type": "execute_result"
    }
   ],
   "source": [
    "print(\"Shape:\", valid_df.shape)\n",
    "\n",
    "valid_df = valid_df.drop(['id'], axis=1)\n",
    "valid_df.head()"
   ]
  },
  {
   "cell_type": "code",
   "execution_count": 198,
   "id": "23df3298",
   "metadata": {},
   "outputs": [
    {
     "name": "stdout",
     "output_type": "stream",
     "text": [
      "<class 'pandas.core.frame.DataFrame'>\n",
      "RangeIndex: 2140 entries, 0 to 2139\n",
      "Data columns (total 2 columns):\n",
      " #   Column  Non-Null Count  Dtype \n",
      "---  ------  --------------  ----- \n",
      " 0   tweet   2140 non-null   object\n",
      " 1   label   2140 non-null   object\n",
      "dtypes: object(2)\n",
      "memory usage: 33.6+ KB\n"
     ]
    }
   ],
   "source": [
    "valid_df.isnull().sum()\n",
    "valid_df.info()"
   ]
  },
  {
   "cell_type": "code",
   "execution_count": 199,
   "id": "a6d37aaa",
   "metadata": {},
   "outputs": [
    {
     "data": {
      "text/html": [
       "<div>\n",
       "<style scoped>\n",
       "    .dataframe tbody tr th:only-of-type {\n",
       "        vertical-align: middle;\n",
       "    }\n",
       "\n",
       "    .dataframe tbody tr th {\n",
       "        vertical-align: top;\n",
       "    }\n",
       "\n",
       "    .dataframe thead th {\n",
       "        text-align: right;\n",
       "    }\n",
       "</style>\n",
       "<table border=\"1\" class=\"dataframe\">\n",
       "  <thead>\n",
       "    <tr style=\"text-align: right;\">\n",
       "      <th></th>\n",
       "      <th>tweet</th>\n",
       "      <th>label</th>\n",
       "    </tr>\n",
       "  </thead>\n",
       "  <tbody>\n",
       "    <tr>\n",
       "      <th>count</th>\n",
       "      <td>2140</td>\n",
       "      <td>2140</td>\n",
       "    </tr>\n",
       "    <tr>\n",
       "      <th>unique</th>\n",
       "      <td>2140</td>\n",
       "      <td>2</td>\n",
       "    </tr>\n",
       "    <tr>\n",
       "      <th>top</th>\n",
       "      <td>Metformin may lower risk for fatal COVID-19. h...</td>\n",
       "      <td>real</td>\n",
       "    </tr>\n",
       "    <tr>\n",
       "      <th>freq</th>\n",
       "      <td>1</td>\n",
       "      <td>1120</td>\n",
       "    </tr>\n",
       "  </tbody>\n",
       "</table>\n",
       "</div>"
      ],
      "text/plain": [
       "                                                    tweet label\n",
       "count                                                2140  2140\n",
       "unique                                               2140     2\n",
       "top     Metformin may lower risk for fatal COVID-19. h...  real\n",
       "freq                                                    1  1120"
      ]
     },
     "execution_count": 199,
     "metadata": {},
     "output_type": "execute_result"
    }
   ],
   "source": [
    "valid_df.describe()"
   ]
  },
  {
   "cell_type": "code",
   "execution_count": 200,
   "id": "b2016e66",
   "metadata": {},
   "outputs": [
    {
     "data": {
      "text/html": [
       "<div>\n",
       "<style scoped>\n",
       "    .dataframe tbody tr th:only-of-type {\n",
       "        vertical-align: middle;\n",
       "    }\n",
       "\n",
       "    .dataframe tbody tr th {\n",
       "        vertical-align: top;\n",
       "    }\n",
       "\n",
       "    .dataframe thead th {\n",
       "        text-align: right;\n",
       "    }\n",
       "</style>\n",
       "<table border=\"1\" class=\"dataframe\">\n",
       "  <thead>\n",
       "    <tr style=\"text-align: right;\">\n",
       "      <th></th>\n",
       "      <th>tweet</th>\n",
       "      <th>label</th>\n",
       "    </tr>\n",
       "  </thead>\n",
       "  <tbody>\n",
       "    <tr>\n",
       "      <th>0</th>\n",
       "      <td>Chinese converting to Islam after realising th...</td>\n",
       "      <td>0</td>\n",
       "    </tr>\n",
       "    <tr>\n",
       "      <th>1</th>\n",
       "      <td>11 out of 13 people (from the Diamond Princess...</td>\n",
       "      <td>0</td>\n",
       "    </tr>\n",
       "    <tr>\n",
       "      <th>2</th>\n",
       "      <td>COVID-19 Is Caused By A Bacterium, Not Virus A...</td>\n",
       "      <td>0</td>\n",
       "    </tr>\n",
       "    <tr>\n",
       "      <th>3</th>\n",
       "      <td>Mike Pence in RNC speech praises Donald Trump’...</td>\n",
       "      <td>0</td>\n",
       "    </tr>\n",
       "    <tr>\n",
       "      <th>4</th>\n",
       "      <td>6/10 Sky's @EdConwaySky explains the latest #C...</td>\n",
       "      <td>1</td>\n",
       "    </tr>\n",
       "  </tbody>\n",
       "</table>\n",
       "</div>"
      ],
      "text/plain": [
       "                                               tweet  label\n",
       "0  Chinese converting to Islam after realising th...      0\n",
       "1  11 out of 13 people (from the Diamond Princess...      0\n",
       "2  COVID-19 Is Caused By A Bacterium, Not Virus A...      0\n",
       "3  Mike Pence in RNC speech praises Donald Trump’...      0\n",
       "4  6/10 Sky's @EdConwaySky explains the latest #C...      1"
      ]
     },
     "execution_count": 200,
     "metadata": {},
     "output_type": "execute_result"
    }
   ],
   "source": [
    "# Replace label into binary values\n",
    "valid_df['label'] = valid_df['label'].map({\"real\":1, \"fake\": 0})\n",
    "valid_df.head()"
   ]
  },
  {
   "cell_type": "markdown",
   "id": "8378e032",
   "metadata": {},
   "source": [
    "## Test dataset Overview"
   ]
  },
  {
   "cell_type": "code",
   "execution_count": 201,
   "id": "52aad880",
   "metadata": {},
   "outputs": [
    {
     "name": "stdout",
     "output_type": "stream",
     "text": [
      "Shape: (2140, 3)\n"
     ]
    },
    {
     "data": {
      "text/html": [
       "<div>\n",
       "<style scoped>\n",
       "    .dataframe tbody tr th:only-of-type {\n",
       "        vertical-align: middle;\n",
       "    }\n",
       "\n",
       "    .dataframe tbody tr th {\n",
       "        vertical-align: top;\n",
       "    }\n",
       "\n",
       "    .dataframe thead th {\n",
       "        text-align: right;\n",
       "    }\n",
       "</style>\n",
       "<table border=\"1\" class=\"dataframe\">\n",
       "  <thead>\n",
       "    <tr style=\"text-align: right;\">\n",
       "      <th></th>\n",
       "      <th>tweet</th>\n",
       "      <th>label</th>\n",
       "    </tr>\n",
       "  </thead>\n",
       "  <tbody>\n",
       "    <tr>\n",
       "      <th>0</th>\n",
       "      <td>Our daily update is published. States reported...</td>\n",
       "      <td>real</td>\n",
       "    </tr>\n",
       "    <tr>\n",
       "      <th>1</th>\n",
       "      <td>Alfalfa is the only cure for COVID-19.</td>\n",
       "      <td>fake</td>\n",
       "    </tr>\n",
       "    <tr>\n",
       "      <th>2</th>\n",
       "      <td>President Trump Asked What He Would Do If He W...</td>\n",
       "      <td>fake</td>\n",
       "    </tr>\n",
       "    <tr>\n",
       "      <th>3</th>\n",
       "      <td>States reported 630 deaths. We are still seein...</td>\n",
       "      <td>real</td>\n",
       "    </tr>\n",
       "    <tr>\n",
       "      <th>4</th>\n",
       "      <td>This is the sixth time a global health emergen...</td>\n",
       "      <td>real</td>\n",
       "    </tr>\n",
       "  </tbody>\n",
       "</table>\n",
       "</div>"
      ],
      "text/plain": [
       "                                               tweet label\n",
       "0  Our daily update is published. States reported...  real\n",
       "1             Alfalfa is the only cure for COVID-19.  fake\n",
       "2  President Trump Asked What He Would Do If He W...  fake\n",
       "3  States reported 630 deaths. We are still seein...  real\n",
       "4  This is the sixth time a global health emergen...  real"
      ]
     },
     "execution_count": 201,
     "metadata": {},
     "output_type": "execute_result"
    }
   ],
   "source": [
    "print(\"Shape:\", test_df.shape)\n",
    "\n",
    "test_df = test_df.drop(['id'], axis=1)\n",
    "test_df.head()"
   ]
  },
  {
   "cell_type": "code",
   "execution_count": 202,
   "id": "393b412e",
   "metadata": {},
   "outputs": [
    {
     "name": "stdout",
     "output_type": "stream",
     "text": [
      "<class 'pandas.core.frame.DataFrame'>\n",
      "RangeIndex: 2140 entries, 0 to 2139\n",
      "Data columns (total 2 columns):\n",
      " #   Column  Non-Null Count  Dtype \n",
      "---  ------  --------------  ----- \n",
      " 0   tweet   2140 non-null   object\n",
      " 1   label   2140 non-null   object\n",
      "dtypes: object(2)\n",
      "memory usage: 33.6+ KB\n"
     ]
    }
   ],
   "source": [
    "test_df.isnull().sum()\n",
    "test_df.info()"
   ]
  },
  {
   "cell_type": "code",
   "execution_count": 203,
   "id": "445f2d34",
   "metadata": {},
   "outputs": [
    {
     "data": {
      "text/html": [
       "<div>\n",
       "<style scoped>\n",
       "    .dataframe tbody tr th:only-of-type {\n",
       "        vertical-align: middle;\n",
       "    }\n",
       "\n",
       "    .dataframe tbody tr th {\n",
       "        vertical-align: top;\n",
       "    }\n",
       "\n",
       "    .dataframe thead th {\n",
       "        text-align: right;\n",
       "    }\n",
       "</style>\n",
       "<table border=\"1\" class=\"dataframe\">\n",
       "  <thead>\n",
       "    <tr style=\"text-align: right;\">\n",
       "      <th></th>\n",
       "      <th>tweet</th>\n",
       "      <th>label</th>\n",
       "    </tr>\n",
       "  </thead>\n",
       "  <tbody>\n",
       "    <tr>\n",
       "      <th>count</th>\n",
       "      <td>2140</td>\n",
       "      <td>2140</td>\n",
       "    </tr>\n",
       "    <tr>\n",
       "      <th>unique</th>\n",
       "      <td>2140</td>\n",
       "      <td>2</td>\n",
       "    </tr>\n",
       "    <tr>\n",
       "      <th>top</th>\n",
       "      <td>The teenager has been interviewed thoroughly t...</td>\n",
       "      <td>real</td>\n",
       "    </tr>\n",
       "    <tr>\n",
       "      <th>freq</th>\n",
       "      <td>1</td>\n",
       "      <td>1120</td>\n",
       "    </tr>\n",
       "  </tbody>\n",
       "</table>\n",
       "</div>"
      ],
      "text/plain": [
       "                                                    tweet label\n",
       "count                                                2140  2140\n",
       "unique                                               2140     2\n",
       "top     The teenager has been interviewed thoroughly t...  real\n",
       "freq                                                    1  1120"
      ]
     },
     "execution_count": 203,
     "metadata": {},
     "output_type": "execute_result"
    }
   ],
   "source": [
    "test_df.describe()"
   ]
  },
  {
   "cell_type": "code",
   "execution_count": 204,
   "id": "8c8b0f83",
   "metadata": {},
   "outputs": [
    {
     "data": {
      "text/html": [
       "<div>\n",
       "<style scoped>\n",
       "    .dataframe tbody tr th:only-of-type {\n",
       "        vertical-align: middle;\n",
       "    }\n",
       "\n",
       "    .dataframe tbody tr th {\n",
       "        vertical-align: top;\n",
       "    }\n",
       "\n",
       "    .dataframe thead th {\n",
       "        text-align: right;\n",
       "    }\n",
       "</style>\n",
       "<table border=\"1\" class=\"dataframe\">\n",
       "  <thead>\n",
       "    <tr style=\"text-align: right;\">\n",
       "      <th></th>\n",
       "      <th>tweet</th>\n",
       "      <th>label</th>\n",
       "    </tr>\n",
       "  </thead>\n",
       "  <tbody>\n",
       "    <tr>\n",
       "      <th>0</th>\n",
       "      <td>Our daily update is published. States reported...</td>\n",
       "      <td>1</td>\n",
       "    </tr>\n",
       "    <tr>\n",
       "      <th>1</th>\n",
       "      <td>Alfalfa is the only cure for COVID-19.</td>\n",
       "      <td>0</td>\n",
       "    </tr>\n",
       "    <tr>\n",
       "      <th>2</th>\n",
       "      <td>President Trump Asked What He Would Do If He W...</td>\n",
       "      <td>0</td>\n",
       "    </tr>\n",
       "    <tr>\n",
       "      <th>3</th>\n",
       "      <td>States reported 630 deaths. We are still seein...</td>\n",
       "      <td>1</td>\n",
       "    </tr>\n",
       "    <tr>\n",
       "      <th>4</th>\n",
       "      <td>This is the sixth time a global health emergen...</td>\n",
       "      <td>1</td>\n",
       "    </tr>\n",
       "  </tbody>\n",
       "</table>\n",
       "</div>"
      ],
      "text/plain": [
       "                                               tweet  label\n",
       "0  Our daily update is published. States reported...      1\n",
       "1             Alfalfa is the only cure for COVID-19.      0\n",
       "2  President Trump Asked What He Would Do If He W...      0\n",
       "3  States reported 630 deaths. We are still seein...      1\n",
       "4  This is the sixth time a global health emergen...      1"
      ]
     },
     "execution_count": 204,
     "metadata": {},
     "output_type": "execute_result"
    }
   ],
   "source": [
    "# Replace label into binary values\n",
    "test_df['label'] = test_df['label'].map({\"real\":1, \"fake\": 0})\n",
    "test_df.head()"
   ]
  },
  {
   "cell_type": "raw",
   "id": "54ceeff2",
   "metadata": {},
   "source": [
    "Concatenate the validation set and training set into one main training set, thus I can perform cross validation in a bigger training set"
   ]
  },
  {
   "cell_type": "code",
   "execution_count": 205,
   "id": "cdc6b89f",
   "metadata": {},
   "outputs": [
    {
     "name": "stdout",
     "output_type": "stream",
     "text": [
      "<class 'pandas.core.frame.DataFrame'>\n",
      "Int64Index: 8560 entries, 0 to 2139\n",
      "Data columns (total 2 columns):\n",
      " #   Column  Non-Null Count  Dtype \n",
      "---  ------  --------------  ----- \n",
      " 0   tweet   8560 non-null   object\n",
      " 1   label   8560 non-null   int64 \n",
      "dtypes: int64(1), object(1)\n",
      "memory usage: 200.6+ KB\n"
     ]
    }
   ],
   "source": [
    "data_frames = [train_df, valid_df]\n",
    "main_train_df = pd.concat(data_frames)\n",
    "main_train_df.info()"
   ]
  },
  {
   "cell_type": "markdown",
   "id": "26cce142",
   "metadata": {},
   "source": [
    "# DATA VISUALIZATION"
   ]
  },
  {
   "cell_type": "code",
   "execution_count": 206,
   "id": "92e56a6d",
   "metadata": {},
   "outputs": [
    {
     "name": "stdout",
     "output_type": "stream",
     "text": [
      "       tweet\n",
      "label       \n",
      "0       4080\n",
      "1       4480\n"
     ]
    },
    {
     "data": {
      "text/plain": [
       "<AxesSubplot:xlabel='label', ylabel='count'>"
      ]
     },
     "execution_count": 206,
     "metadata": {},
     "output_type": "execute_result"
    },
    {
     "data": {
      "image/png": "[encoded data removed]",
      "text/plain": [
       "<Figure size 432x288 with 1 Axes>"
      ]
     },
     "metadata": {
      "needs_background": "light"
     },
     "output_type": "display_data"
    }
   ],
   "source": [
    "# Visualize data distribution for train data\n",
    "print(main_train_df.groupby('label').count())\n",
    "sb.countplot(x='label', data=main_train_df, palette='hls')"
   ]
  },
  {
   "cell_type": "code",
   "execution_count": 207,
   "id": "2bb34c28",
   "metadata": {},
   "outputs": [
    {
     "name": "stdout",
     "output_type": "stream",
     "text": [
      "       tweet\n",
      "label       \n",
      "0       1020\n",
      "1       1120\n"
     ]
    },
    {
     "data": {
      "text/plain": [
       "<AxesSubplot:xlabel='label', ylabel='count'>"
      ]
     },
     "execution_count": 207,
     "metadata": {},
     "output_type": "execute_result"
    },
    {
     "data": {
      "image/png": "[encoded data removed]",
      "text/plain": [
       "<Figure size 432x288 with 1 Axes>"
      ]
     },
     "metadata": {
      "needs_background": "light"
     },
     "output_type": "display_data"
    }
   ],
   "source": [
    "# Visualize data distribution for test data\n",
    "print(test_df.groupby('label').count())\n",
    "sb.countplot(x='label', data=test_df, palette='hls')"
   ]
  },
  {
   "cell_type": "markdown",
   "id": "1966bd6a",
   "metadata": {},
   "source": [
    "The data of training set, and test set seem to be evenly distributed between two labels through the graphs"
   ]
  },
  {
   "cell_type": "markdown",
   "id": "23e53fd8",
   "metadata": {},
   "source": [
    "# DATA CLEANING"
   ]
  },
  {
   "cell_type": "markdown",
   "id": "a984b8d1",
   "metadata": {},
   "source": [
    "### Convert text to lowercase"
   ]
  },
  {
   "cell_type": "code",
   "execution_count": 208,
   "id": "94af5183",
   "metadata": {},
   "outputs": [
    {
     "name": "stdout",
     "output_type": "stream",
     "text": [
      "0       the cdc currently reports 99031 deaths. in gen...\n",
      "1       states reported 1121 deaths a small rise from ...\n",
      "2       politically correct woman (almost) uses pandem...\n",
      "3       #indiafightscorona: we have 1524 #covid testin...\n",
      "4       populous states can generate large case counts...\n",
      "                              ...                        \n",
      "2135    donald trump wrongly claimed that new zealand ...\n",
      "2136    current understanding is #covid19 spreads most...\n",
      "2137    nothing screams “i am sat around doing fuck al...\n",
      "2138    birx says covid-19 outbreak not under control ...\n",
      "2139    another 4422 new coronavirus cases have been c...\n",
      "Name: tweet, Length: 8560, dtype: object\n"
     ]
    }
   ],
   "source": [
    "# Convert tweet content to lower case\n",
    "main_train_df['tweet'] = [text.lower() for text in main_train_df['tweet']]\n",
    "print(main_train_df['tweet'])"
   ]
  },
  {
   "cell_type": "markdown",
   "id": "41139b49",
   "metadata": {},
   "source": [
    "### Tokenize tweet content"
   ]
  },
  {
   "cell_type": "code",
   "execution_count": 209,
   "id": "82954ffe",
   "metadata": {},
   "outputs": [
    {
     "name": "stdout",
     "output_type": "stream",
     "text": [
      "['the', 'cdc', 'currently', 'reports', '99031', 'deaths', '.', 'in', 'general', 'the', 'discrepancies', 'in', 'death', 'counts', 'between', 'different', 'sources', 'are', 'small', 'and', 'explicable', '.', 'the', 'death', 'toll', 'stands', 'at', 'roughly', '100000', 'people', 'today', '.']\n"
     ]
    }
   ],
   "source": [
    "# Split each tweet message into a list of word for feature extraction process later\n",
    "tokenized_train_data = [word_tokenize(text) for text in main_train_df['tweet']]\n",
    "print(tokenized_train_data[0])"
   ]
  },
  {
   "cell_type": "markdown",
   "id": "12f7d97b",
   "metadata": {},
   "source": [
    "### Remove punctuations, special characters, url strips,..."
   ]
  },
  {
   "cell_type": "code",
   "execution_count": 220,
   "id": "fbf3ab93",
   "metadata": {},
   "outputs": [],
   "source": [
    "# Remove all the characters, punctuations, url strips, numbers, emoji\n",
    "import re\n",
    "\n",
    "emoji_pattern = re.compile(\"[\"\n",
    "                           u\"\\U0001F600-\\U0001F64F\" # emoticons\n",
    "                           u\"\\U0001F300-\\U0001F5FF\" # symbols & pictographs\n",
    "                           u\"\\U0001F680-\\U0001F6FF\" # transport & map symbols\n",
    "                           u\"\\U0001F1E0-\\U0001F1FF\" # flags (iOS)\n",
    "                           u\"\\U00002702-\\U000027B0\"\n",
    "                           u\"\\U000024C2-\\U0001F251\"\n",
    "                           \"]+\", flags=re.UNICODE)\n",
    "\n",
    "regex_pattern = re.compile('(@[a-z]+)|([^a-z \\t])|(\\w+:\\/\\/\\S+)')\n",
    "stopwords_removed_data = []\n",
    "\n",
    "punct_removed_data = []\n",
    "\n",
    "for tweet in tokenized_train_data:\n",
    "    temp = []\n",
    "    for word in tweet:\n",
    "        new_word = re.sub(r'\\d+','',word)\n",
    "        new_word = re.sub(r'https\\S+','',new_word)\n",
    "        new_word = re.sub(r'http\\S+','',new_word)\n",
    "        new_word = emoji_pattern.sub(r'', new_word)\n",
    "        new_word = regex_pattern.sub(u'', new_word)\n",
    "        if not new_word == u'':\n",
    "            temp.append(new_word)\n",
    "    punct_removed_data.append(temp)"
   ]
  },
  {
   "cell_type": "markdown",
   "id": "56958c49",
   "metadata": {},
   "source": [
    "### Remove all the stopwords"
   ]
  },
  {
   "cell_type": "code",
   "execution_count": 221,
   "id": "82ca599b",
   "metadata": {},
   "outputs": [
    {
     "name": "stdout",
     "output_type": "stream",
     "text": [
      "['cdc', 'currently', 'reports', 'deaths', 'general', 'discrepancies', 'death', 'counts', 'different', 'sources', 'small', 'explicable', 'death', 'toll', 'stands', 'roughly', 'people', 'today']\n"
     ]
    }
   ],
   "source": [
    "# Removing all the stopwords\n",
    "\n",
    "for tweet in punct_removed_data:\n",
    "    temp = []\n",
    "    for word in tweet:\n",
    "        if not word in stopwords.words('english'):\n",
    "            temp.append(word)\n",
    "    stopwords_removed_data.append(temp)\n",
    "    \n",
    "print(stopwords_removed_data[0])"
   ]
  },
  {
   "cell_type": "markdown",
   "id": "843eae32",
   "metadata": {},
   "source": [
    "### Stemming and Lemmatizing"
   ]
  },
  {
   "cell_type": "code",
   "execution_count": 222,
   "id": "3ea87705",
   "metadata": {},
   "outputs": [
    {
     "name": "stdout",
     "output_type": "stream",
     "text": [
      "['cdc', 'currently', 'report', 'death', 'general', 'discrepancy', 'death', 'count', 'different', 'source', 'small', 'explicable', 'death', 'toll', 'stand', 'roughly', 'people', 'today']\n"
     ]
    }
   ],
   "source": [
    "# Stemming and lemmatizing data\n",
    "\n",
    "stemmer = PorterStemmer()\n",
    "lemmer = WordNetLemmatizer()\n",
    "\n",
    "clean_train_data = []\n",
    "\n",
    "for tweet in stopwords_removed_data:\n",
    "    temp = []\n",
    "    for word in tweet:\n",
    "        stemmer.stem(word)\n",
    "        temp.append(lemmer.lemmatize(word))\n",
    "    clean_train_data.append(temp)\n",
    "print(clean_train_data[0])"
   ]
  },
  {
   "cell_type": "markdown",
   "id": "91ebf077",
   "metadata": {},
   "source": [
    "# EXTRACT FEATURES - FEATURE SELECTION\n",
    " \n"
   ]
  },
  {
   "cell_type": "markdown",
   "id": "40138410",
   "metadata": {},
   "source": [
    "### Bag-of-words Method"
   ]
  },
  {
   "cell_type": "code",
   "execution_count": 223,
   "id": "364777fd",
   "metadata": {},
   "outputs": [],
   "source": [
    "def dummy(doc):\n",
    "    return doc"
   ]
  },
  {
   "cell_type": "code",
   "execution_count": 277,
   "id": "e189cbb5",
   "metadata": {},
   "outputs": [],
   "source": [
    "\n",
    "# Fit the cleaned tokenized train data to create a bag of words relating to Covid-19 news\n",
    "count_vect = CountVectorizer(tokenizer=dummy, preprocessor=dummy, token_pattern=None, analyzer='word')\n",
    "covid_word_bag = count_vect.fit(clean_train_data)"
   ]
  },
  {
   "cell_type": "code",
   "execution_count": 225,
   "id": "045e44d0",
   "metadata": {},
   "outputs": [],
   "source": [
    "# Convert the word bag to a dataframe to visualize\n",
    "df_covid_word_bag = pd.DataFrame(covid_word_bag.transform(clean_train_data).toarray(), columns=count_vect.get_feature_names())"
   ]
  },
  {
   "cell_type": "code",
   "execution_count": 226,
   "id": "00959887",
   "metadata": {},
   "outputs": [],
   "source": [
    "# Find 5 words in the bag which have highest frequency\n",
    "word_count = df_covid_word_bag.sum()\n",
    "top_ten_count = word_count.sort_values(ascending=False).head(5)"
   ]
  },
  {
   "cell_type": "code",
   "execution_count": 228,
   "id": "1fbc62d5",
   "metadata": {},
   "outputs": [
    {
     "data": {
      "image/png": "[encoded data removed]",
      "text/plain": [
       "<Figure size 432x288 with 1 Axes>"
      ]
     },
     "metadata": {
      "needs_background": "light"
     },
     "output_type": "display_data"
    }
   ],
   "source": [
    "# Visualize Top 5 unigrams\n",
    "indexes = np.arange(len(top_ten_count.keys()))\n",
    "width = 0.7\n",
    "plt.bar(indexes, top_ten_count,width)\n",
    "plt.xticks(indexes, top_ten_count.keys())\n",
    "plt.show()"
   ]
  },
  {
   "cell_type": "markdown",
   "id": "c61e824a",
   "metadata": {},
   "source": [
    "### TD-IDF Method (Term Frequency-Inverse Document Frequency)"
   ]
  },
  {
   "cell_type": "code",
   "execution_count": 278,
   "id": "ab818cc5",
   "metadata": {},
   "outputs": [
    {
     "data": {
      "text/plain": [
       "<8560x292451 sparse matrix of type '<class 'numpy.float64'>'\n",
       "\twith 493634 stored elements in Compressed Sparse Row format>"
      ]
     },
     "execution_count": 278,
     "metadata": {},
     "output_type": "execute_result"
    }
   ],
   "source": [
    "# Convert each word into a meaningful numbers which reflects the level of importance of the word in the news\n",
    "#tfidf = TfidfVectorizer(stop_words='english',ngram_range=(1,4),use_idf=True,smooth_idf=True)\n",
    "def identity_tokenizer(text):\n",
    "    return text\n",
    "# Fit the tokenized data to td-idf vector\n",
    "tfidf = TfidfVectorizer(tokenizer=identity_tokenizer, ngram_range=(1,4),use_idf=True,smooth_idf=True, lowercase = False)    \n",
    "tfidf.fit_transform(clean_train_data)"
   ]
  },
  {
   "cell_type": "markdown",
   "id": "884211cd",
   "metadata": {},
   "source": [
    "# Modeling Different Classifiers with Bag-of-Word features"
   ]
  },
  {
   "cell_type": "code",
   "execution_count": 253,
   "id": "d2f6b6ef",
   "metadata": {},
   "outputs": [],
   "source": [
    "def k_fold_cross_validation(classifier):\n",
    "    \n",
    "    k_fold = KFold(n_splits=5)\n",
    "    f1_scores = []\n",
    "    accuracy_scores = []\n",
    "    precision_scores = []\n",
    "    recall_scores = []\n",
    "    confusion = np.array([[0,0],[0,0]])\n",
    "\n",
    "    for train_ind, test_ind in k_fold.split(main_train_df):\n",
    "        train_text = main_train_df.iloc[train_ind]['tweet'] \n",
    "        train_y = main_train_df.iloc[train_ind]['label']\n",
    "    \n",
    "        test_text = main_train_df.iloc[test_ind]['tweet']\n",
    "        test_y = main_train_df.iloc[test_ind]['label']\n",
    "        \n",
    "        classifier.fit(train_text,train_y)\n",
    "        predictions = classifier.predict(test_text)\n",
    "        \n",
    "        confusion += confusion_matrix(test_y,predictions)\n",
    "        f1score = f1_score(test_y,predictions)\n",
    "        acc_score = accuracy_score(test_y, predictions)\n",
    "        prec_score = precision_score(test_y, predictions)\n",
    "        rec_score = recall_score(test_y, predictions)\n",
    "        \n",
    "        \n",
    "        f1_scores.append(f1score)\n",
    "        accuracy_scores.append(acc_score)\n",
    "        precision_scores.append(prec_score)\n",
    "        recall_scores.append(rec_score)\n",
    "    \n",
    "    return (print('Total tweets classified:', len(main_train_df)),\n",
    "    print('F1-Score:', round(sum(f1_scores)/len(f1_scores) * 100, 2),'%'),\n",
    "    print(\"Accuracy:\",round(sum(accuracy_scores)/len(accuracy_scores) * 100, 2),'%'),\n",
    "    print(\"Precision:\",round(sum(precision_scores)/len(precision_scores) * 100, 2), '%'),\n",
    "    print(\"Recall:\",round(sum(recall_scores)/len(recall_scores), 2) * 100, '%'),\n",
    "    print('Confusion matrix:'),\n",
    "    print(confusion))\n",
    "\n"
   ]
  },
  {
   "cell_type": "code",
   "execution_count": 254,
   "id": "7b8b866e",
   "metadata": {},
   "outputs": [
    {
     "data": {
      "text/plain": [
       "1    0.523364\n",
       "0    0.476636\n",
       "Name: label, dtype: float64"
      ]
     },
     "execution_count": 254,
     "metadata": {},
     "output_type": "execute_result"
    }
   ],
   "source": [
    "# Baseline score\n",
    "# \"If you have a classification problem, you can select the class that has the most observations and use that class as the result for all predictions.\"\n",
    "# Source from: https://machinelearningmastery.com/how-to-get-baseline-results-and-why-they-matter/\n",
    "\n",
    "# In this case, 1 or real is the class that has the most observations, I would expect my model to be better than 52%.\n",
    "main_train_df['label'].value_counts(normalize=True)"
   ]
  },
  {
   "cell_type": "markdown",
   "id": "ae0eef54",
   "metadata": {},
   "source": [
    "### 1. Classifier using Logistic Regression"
   ]
  },
  {
   "cell_type": "code",
   "execution_count": null,
   "id": "a05709a3",
   "metadata": {},
   "outputs": [],
   "source": [
    "# Create the model\n",
    "\n",
    "log_reg_pipeline = Pipeline([('LogRCV',count_vect), ('LogR_clf', LogisticRegression())])\n",
    "# Fit the train data into the model\n",
    "log_reg_pipeline.fit(main_train_df['tweet'],main_train_df['label'])\n",
    "print('\\n-------- K-fold cross validation result --------')\n",
    "print(k_fold_cross_validation(log_reg_pipeline))\n",
    "\n",
    "# print('\\n-------- K-fold cross validation result on Validation Set --------')\n",
    "# print(k_fold_cross_validation(log_reg_pipeline, valid_df))\n",
    "\n",
    "# print('\\n-------- Evaluation results on validation set --------')\n",
    "# val_log_reg = log_reg_pipeline.predict(valid_df['tweet'])\n",
    "\n",
    "# # print(classification_report(valid_df['label'], val_log_reg))\n",
    "# print(\"Mean score: \", np.mean(val_log_reg == valid_df['label']))\n",
    "# print(\"Accuracy:\",round(accuracy_score(valid_df['label'], val_log_reg)*100, 2),'%')\n",
    "# print(\"Precision:\",round(precision_score(valid_df['label'], val_log_reg)*100, 2), '%')\n",
    "# print(\"Recall:\",round(recall_score(valid_df['label'], val_log_reg)*100, 2), '%')\n",
    "# print(\"F1-score:\",round(f1_score(valid_df['label'], val_log_reg)*100, 2), '%')\n",
    "# print('-------- K-fold cross validation result --------')\n",
    "# print(build_confusion_matrix(log_reg_pipeline))"
   ]
  },
  {
   "cell_type": "markdown",
   "id": "5b726f05",
   "metadata": {},
   "source": [
    "### 2. Classifier using Naive Bayes"
   ]
  },
  {
   "cell_type": "code",
   "execution_count": 256,
   "id": "a8cf5fec",
   "metadata": {},
   "outputs": [
    {
     "name": "stdout",
     "output_type": "stream",
     "text": [
      "\n",
      "-------- K-fold cross validation result --------\n",
      "Total tweets classified: 8560\n",
      "F1-Score: 77.74 %\n",
      "Accuracy: 77.21 %\n",
      "Precision: 79.53 %\n",
      "Recall: 76.0 %\n",
      "Confusion matrix:\n",
      "[[3202  878]\n",
      " [1073 3407]]\n",
      "(None, None, None, None, None, None, None)\n"
     ]
    }
   ],
   "source": [
    "# Create the model\n",
    "nbayes_pipeline = Pipeline([('NBCV', count_vect),('nb_clf',MultinomialNB())])\n",
    "# Fit the train data into the model\n",
    "nbayes_pipeline.fit(main_train_df['tweet'],main_train_df['label'])\n",
    "\n",
    "print('\\n-------- K-fold cross validation result --------')\n",
    "print(k_fold_cross_validation(nbayes_pipeline))\n",
    "# print('\\n-------- K-fold cross validation result on Validation Set --------')\n",
    "# print(k_fold_cross_validation(nbayes_pipeline, valid_df))\n",
    "\n",
    "# print('\\n-------- Evaluation results on validation set --------')\n",
    "# # Test by predicting the result for data in testing set.\n",
    "# val_nbayes = nbayes_pipeline.predict(valid_df['tweet'])\n",
    "# print('Mean score: ', np.mean(val_nbayes == valid_df['label']))\n",
    "# # print(classification_report(test_df['label'], test_nbayes))\n",
    "# print(\"Accuracy:\",round(accuracy_score(valid_df['label'], val_nbayes)*100, 2),'%')\n",
    "# print(\"Precision:\",round(precision_score(valid_df['label'], val_nbayes)*100, 2), '%')\n",
    "# print(\"Recall:\",round(recall_score(valid_df['label'], val_nbayes)*100, 2), '%')\n",
    "# print(\"F1-score:\",round(f1_score(valid_df['label'], val_nbayes)*100, 2), '%')\n"
   ]
  },
  {
   "cell_type": "markdown",
   "id": "8b9a604c",
   "metadata": {},
   "source": [
    "### 3. Classifier using Random Forest"
   ]
  },
  {
   "cell_type": "code",
   "execution_count": 257,
   "id": "0d431d41",
   "metadata": {},
   "outputs": [
    {
     "name": "stdout",
     "output_type": "stream",
     "text": [
      "\n",
      "-------- K-fold cross validation result --------\n",
      "Total tweets classified: 8560\n",
      "F1-Score: 91.91 %\n",
      "Accuracy: 91.25 %\n",
      "Precision: 89.09 %\n",
      "Recall: 95.0 %\n",
      "Confusion matrix:\n",
      "[[3559  521]\n",
      " [ 228 4252]]\n",
      "(None, None, None, None, None, None, None)\n"
     ]
    }
   ],
   "source": [
    "# Create the model\n",
    "random_forest_pipeline = Pipeline([('rfCV', count_vect),('rf_clf',RandomForestClassifier(n_estimators=200,n_jobs=3))])\n",
    "# Fit the train data into the model\n",
    "random_forest_pipeline.fit(main_train_df['tweet'],main_train_df['label'])\n",
    "\n",
    "print('\\n-------- K-fold cross validation result --------')\n",
    "print(k_fold_cross_validation(random_forest_pipeline))\n",
    "# print('\\n-------- K-fold cross validation result on Validation Set --------')\n",
    "# print(k_fold_cross_validation(random_forest_pipeline, valid_df))\n",
    "\n",
    "# print('\\n-------- Evaluation results on validation set --------')\n",
    "# val_random_forest = random_forest_pipeline.predict(valid_df['tweet'])\n",
    "# # Calculate mean of results.\n",
    "# print('Mean score: ', np.mean(val_random_forest == valid_df['label']))\n",
    "# # print(classification_report(test_df['label'], test_random_forest))\n",
    "# print(\"Accuracy:\",round(accuracy_score(valid_df['label'], val_random_forest)*100, 2),'%')\n",
    "# print(\"Precision:\",round(precision_score(valid_df['label'], val_random_forest)*100, 2), '%')\n",
    "# print(\"Recall:\",round(recall_score(valid_df['label'], val_random_forest)*100, 2), '%')\n",
    "# print(\"F1-score:\",round(f1_score(valid_df['label'], val_random_forest)*100, 2), '%')"
   ]
  },
  {
   "cell_type": "markdown",
   "id": "f9e4f0a1",
   "metadata": {},
   "source": [
    "### 4. Classifier using SVM"
   ]
  },
  {
   "cell_type": "code",
   "execution_count": null,
   "id": "3da64129",
   "metadata": {},
   "outputs": [],
   "source": [
    "svm_pipeline = Pipeline([('svmCV',count_vect), ('svm_clf',svm.LinearSVC())])\n",
    "svm_pipeline.fit(main_train_df['tweet'],main_train_df['label'])\n",
    "\n",
    "print('\\n-------- K-fold cross validation result --------')\n",
    "print(k_fold_cross_validation(svm_pipeline))\n",
    "# print('\\n-------- K-fold cross validation result on Validation Set --------')\n",
    "# print(k_fold_cross_validation(svm_pipeline, valid_df))\n",
    "\n",
    "# print('\\n-------- Evaluation results on validation set --------')\n",
    "# val_svm = svm_pipeline.predict(valid_df['tweet'])\n",
    "\n",
    "# print('Mean score: ', np.mean(val_svm == valid_df['label']))\n",
    "# print(\"Accuracy:\",round(accuracy_score(valid_df['label'], val_svm)*100, 2),'%')\n",
    "# print(\"Precision:\",round(precision_score(valid_df['label'], val_svm)*100, 2), '%')\n",
    "# print(\"Recall:\",round(recall_score(valid_df['label'], val_svm)*100, 2), '%')\n",
    "# print(\"F1-score:\",round(f1_score(valid_df['label'], val_svm)*100, 2), '%')"
   ]
  },
  {
   "cell_type": "markdown",
   "id": "0062e509",
   "metadata": {},
   "source": [
    "# Modeling Different Classifiers with TF-IDF features"
   ]
  },
  {
   "cell_type": "markdown",
   "id": "e1d3936f",
   "metadata": {},
   "source": [
    "### 5. Classifier using Logistic Regression"
   ]
  },
  {
   "cell_type": "code",
   "execution_count": null,
   "id": "87154238",
   "metadata": {},
   "outputs": [],
   "source": [
    "# Create the model\n",
    "log_reg_tfidf_pipeline = Pipeline([('LogR_tfidf',tfidf), ('LogR_clf',LogisticRegression())])\n",
    "# Fit the train data into the model\n",
    "log_reg_tfidf_pipeline.fit(main_train_df['tweet'],main_train_df['label'])\n",
    "\n",
    "print('\\n-------- K-fold cross validation result --------')\n",
    "print(k_fold_cross_validation(svm_pipeline))\n",
    "\n",
    "# # Test by predicting the result for data in testing set.\n",
    "# val_log_reg_tfidf = log_reg_tfidf_pipeline.predict(valid_df['tweet'])\n",
    "# # print(np.mean(test_log_reg_tfidf == test_df['label']))\n",
    "# # print(classification_report(test_df['label'], test_log_reg_tfidf))\n",
    "# print(\"Accuracy:\",round(accuracy_score(valid_df['label'], val_log_reg_tfidf)*100, 2),'%')\n",
    "# print(\"Precision:\",round(precision_score(valid_df['label'], val_log_reg_tfidf)*100, 2), '%')\n",
    "# print(\"Recall:\",round(recall_score(valid_df['label'], val_log_reg_tfidf)*100, 2), '%')\n",
    "# print(\"F1-score:\",round(f1_score(valid_df['label'], val_log_reg_tfidf)*100, 2), '%')"
   ]
  },
  {
   "cell_type": "markdown",
   "id": "37f28b85",
   "metadata": {},
   "source": [
    "### 6. Classifier using Naive Bayes"
   ]
  },
  {
   "cell_type": "code",
   "execution_count": 261,
   "id": "0363eaae",
   "metadata": {},
   "outputs": [
    {
     "name": "stdout",
     "output_type": "stream",
     "text": [
      "\n",
      "-------- K-fold cross validation result --------\n",
      "Total tweets classified: 8560\n",
      "F1-Score: 88.33 %\n",
      "Accuracy: 86.29 %\n",
      "Precision: 79.59 %\n",
      "Recall: 99.0 %\n",
      "Confusion matrix:\n",
      "[[2940 1140]\n",
      " [  34 4446]]\n",
      "(None, None, None, None, None, None, None)\n"
     ]
    }
   ],
   "source": [
    "# Create the model\n",
    "nbayes_tfidf_pipeline = Pipeline([('nb_tfidf', tfidf),('nb_clf',MultinomialNB())])\n",
    "# Fit the train data into the model\n",
    "nbayes_tfidf_pipeline.fit(main_train_df['tweet'], main_train_df['label'])\n",
    "print('\\n-------- K-fold cross validation result --------')\n",
    "print(k_fold_cross_validation(nbayes_tfidf_pipeline))\n",
    "\n",
    "# # Test by predicting the result for data in testing set.\n",
    "# val_nbayes_tfidf = nbayes_tfidf_pipeline.predict(valid_df['tweet'])\n",
    "# # Calculate mean of results.\n",
    "# # print('Mean score: ', np.mean(test_nbayes_tfidf == test_df['label']))\n",
    "# # print(classification_report(test_df['label'], test_nbayes_tfidf))\n",
    "# print(\"Accuracy:\",round(accuracy_score(valid_df['label'], val_nbayes_tfidf)*100, 2),'%')\n",
    "# print(\"Precision:\",round(precision_score(valid_df['label'], val_nbayes_tfidf)*100, 2), '%')\n",
    "# print(\"Recall:\",round(recall_score(valid_df['label'], val_nbayes_tfidf)*100, 2), '%')\n",
    "# print(\"F1-score:\",round(f1_score(valid_df['label'], val_nbayes_tfidf)*100, 2), '%')"
   ]
  },
  {
   "cell_type": "markdown",
   "id": "3aff7df3",
   "metadata": {},
   "source": [
    "### 7. Classifier using Random Forest"
   ]
  },
  {
   "cell_type": "code",
   "execution_count": 262,
   "id": "74c25137",
   "metadata": {},
   "outputs": [
    {
     "name": "stdout",
     "output_type": "stream",
     "text": [
      "\n",
      "-------- K-fold cross validation result --------\n",
      "Total tweets classified: 8560\n",
      "F1-Score: 94.12 %\n",
      "Accuracy: 93.73 %\n",
      "Precision: 92.37 %\n",
      "Recall: 96.0 %\n",
      "Confusion matrix:\n",
      "[[3725  355]\n",
      " [ 182 4298]]\n",
      "(None, None, None, None, None, None, None)\n"
     ]
    }
   ],
   "source": [
    "random_forest_tfidf_pipeline = Pipeline([('rf_tfidf',tfidf),('rf_clf',RandomForestClassifier(n_estimators=300,n_jobs=3))])\n",
    "    \n",
    "random_forest_tfidf_pipeline.fit(main_train_df['tweet'],main_train_df['label'])\n",
    "\n",
    "print('\\n-------- K-fold cross validation result --------')\n",
    "print(k_fold_cross_validation(random_forest_tfidf_pipeline))\n",
    "# val_rf_tfidf = random_forest_tfidf_pipeline.predict(valid_df['tweet'])\n",
    "# # print('Mean score: ', np.mean(test_rf_tfidf == test_df['label']))\n",
    "# # print(classification_report(test_df['label'], test_rf_tfidf))\n",
    "# print(\"Accuracy:\",round(accuracy_score(valid_df['label'], val_rf_tfidf)*100, 2),'%')\n",
    "# print(\"Precision:\",round(precision_score(valid_df['label'], val_rf_tfidf)*100, 2), '%')\n",
    "# print(\"Recall:\",round(recall_score(valid_df['label'], val_rf_tfidf)*100, 2), '%')\n",
    "# print(\"F1-score:\",round(f1_score(valid_df['label'], val_rf_tfidf)*100, 2), '%')"
   ]
  },
  {
   "cell_type": "markdown",
   "id": "aea04509",
   "metadata": {},
   "source": [
    "### 8. Classifier using SVM"
   ]
  },
  {
   "cell_type": "code",
   "execution_count": 294,
   "id": "40db63fc",
   "metadata": {},
   "outputs": [
    {
     "name": "stdout",
     "output_type": "stream",
     "text": [
      "\n",
      "-------- K-fold cross validation result --------\n",
      "Total tweets classified: 8560\n",
      "F1-Score: 96.58 %\n",
      "Accuracy: 96.39 %\n",
      "Precision: 95.74 %\n",
      "Recall: 97.0 %\n",
      "Confusion matrix:\n",
      "[[3886  194]\n",
      " [ 115 4365]]\n",
      "(None, None, None, None, None, None, None)\n"
     ]
    }
   ],
   "source": [
    "svm_tfidf_pipeline = Pipeline([('svm_tfidf',tfidf), ('svm_clf',svm.LinearSVC())])\n",
    "svm_tfidf_pipeline.fit(main_train_df['tweet'],main_train_df['label'])\n",
    "print('\\n-------- K-fold cross validation result --------')\n",
    "print(k_fold_cross_validation(svm_tfidf_pipeline))\n",
    "\n",
    "\n",
    "# val_svm_tfidf = svm_tfidf_pipeline.predict(valid_df['tweet'])\n",
    "# # print(np.mean(test_svm_tfidf == test_df['label']))\n",
    "# # print(classification_report(test_df['label'], test_svm_tfidf))\n",
    "# print(\"Accuracy:\",round(accuracy_score(valid_df['label'], val_svm_tfidf)*100, 2),'%')\n",
    "# print(\"Precision:\",round(precision_score(valid_df['label'], val_svm_tfidf)*100, 2), '%')\n",
    "# print(\"Recall:\",round(recall_score(valid_df['label'], val_svm_tfidf)*100, 2), '%')\n",
    "# print(\"F1-score:\",round(f1_score(valid_df['label'], val_svm_tfidf)*100, 2), '%')"
   ]
  },
  {
   "cell_type": "markdown",
   "id": "4ab1568c",
   "metadata": {},
   "source": [
    "Through 8 models' classification reports, I take out the best two models that show the best performance in terms of precision, recall, f-1 score and accuracy. Models that produce results more than 0.9 are prefered.\n",
    "Best performing models: 7,8"
   ]
  },
  {
   "cell_type": "markdown",
   "id": "dc1dde0a",
   "metadata": {},
   "source": [
    "# FIND BEST PARAMETERS TO OPTIMIZE SELECTED MODELS BY GRIDSEARCH"
   ]
  },
  {
   "cell_type": "markdown",
   "id": "09447b27",
   "metadata": {},
   "source": [
    "The GridSearchCV function is used to find out the best parameters for each pipeline. Thus they can be used to optimize the selected models"
   ]
  },
  {
   "cell_type": "markdown",
   "id": "99520835",
   "metadata": {},
   "source": [
    "### Model 8: SVM and TF-IDF"
   ]
  },
  {
   "cell_type": "code",
   "execution_count": null,
   "id": "c680dcf3",
   "metadata": {},
   "outputs": [],
   "source": [
    "init_params_svm = {'svm_tfidf__ngram_range': [(1, 1), (1, 2),(1,3),(1,4),(1,5)],\n",
    "                   'svm_tfidf__use_idf': (True, False),\n",
    "                   'svm_tfidf__smooth_idf': (True, False),\n",
    "                   'svm_clf__penalty': ('l1','l2'),\n",
    "}\n",
    "\n",
    "gs_clf_svm = GridSearchCV(svm_tfidf_pipeline, init_params_svm, n_jobs=-1)\n",
    "gs_clf_svm= gs_clf_svm.fit(main_train_df['tweet'][:10000],main_train_df['label'][:10000])\n",
    "\n",
    "print(\"Best score:\", gs_clf_svm.best_score_)\n",
    "print(\"Train score\", gs_clf_svm.score(main_train_df['tweet'][:10000], main_train_df['label'][:10000]))\n",
    "print(\"Test score\", gs_clf_svm.score(test_df['tweet'][:10000], test_df['label'][:10000]))\n",
    "\n",
    "gs_clf_svm.best_params_"
   ]
  },
  {
   "cell_type": "markdown",
   "id": "20202ea7",
   "metadata": {},
   "source": [
    "### Model 7: Random Forest and TF-IDF"
   ]
  },
  {
   "cell_type": "code",
   "execution_count": 291,
   "id": "0ebcab3e",
   "metadata": {},
   "outputs": [
    {
     "name": "stdout",
     "output_type": "stream",
     "text": [
      "Best score: 0.9258177570093459\n",
      "Train score 0.9940420560747664\n",
      "Test score 0.9186915887850468\n"
     ]
    },
    {
     "data": {
      "text/plain": [
       "{'rf_clf__max_depth': 15,\n",
       " 'rf_tfidf__ngram_range': (1, 2),\n",
       " 'rf_tfidf__use_idf': True}"
      ]
     },
     "execution_count": 291,
     "metadata": {},
     "output_type": "execute_result"
    }
   ],
   "source": [
    "init_params_rf = {'rf_tfidf__ngram_range': [(1, 1), (1, 2),(1,3),(1,4),(1,5)],\n",
    "                  'rf_tfidf__use_idf': (True, False),\n",
    "                  'rf_clf__max_depth': (1,2,3,4,5,6,7,8,9,10,11,12,13,14,15)\n",
    "}\n",
    "\n",
    "gs_clf_rf = GridSearchCV(random_forest_tfidf_pipeline, init_params_rf, n_jobs=-1)\n",
    "gs_clf_rf = gs_clf_rf.fit(main_train_df['tweet'][:10000],main_train_df['label'][:10000])\n",
    "\n",
    "print(\"Best score:\", gs_clf_rf.best_score_)\n",
    "print(\"Train score\", gs_clf_rf.score(main_train_df['tweet'][:10000], main_train_df['label'][:10000]))\n",
    "print(\"Test score\", gs_clf_rf.score(test_df['tweet'][:10000], test_df['label'][:10000]))\n",
    "\n",
    "gs_clf_rf.best_params_"
   ]
  },
  {
   "cell_type": "markdown",
   "id": "715fa6aa",
   "metadata": {},
   "source": [
    "### Retrain the best models with the best parameters"
   ]
  },
  {
   "cell_type": "code",
   "execution_count": 292,
   "id": "29b66151",
   "metadata": {},
   "outputs": [
    {
     "name": "stdout",
     "output_type": "stream",
     "text": [
      "Accuracy: 92.15 %\n",
      "Precision: 95.42 %\n",
      "Recall: 89.29 %\n",
      "F1-score: 92.25 %\n",
      "              precision    recall  f1-score   support\n",
      "\n",
      "           0       0.89      0.95      0.92      1020\n",
      "           1       0.95      0.89      0.92      1120\n",
      "\n",
      "    accuracy                           0.92      2140\n",
      "   macro avg       0.92      0.92      0.92      2140\n",
      "weighted avg       0.92      0.92      0.92      2140\n",
      "\n",
      "[[ 972   48]\n",
      " [ 120 1000]]\n"
     ]
    }
   ],
   "source": [
    "random_forest_tfidf_pipeline_final = Pipeline([('rf_tfidf',TfidfVectorizer(ngram_range=(1,2), use_idf=True,stop_words='english')),('rf_clf',RandomForestClassifier(n_estimators=300,n_jobs=3))])\n",
    "    \n",
    "random_forest_tfidf_pipeline_final.fit(main_train_df['tweet'],main_train_df['label'])\n",
    "test_rf_tfidf_final = random_forest_tfidf_pipeline_final.predict(test_df['tweet'])\n",
    "\n",
    "print(\"Accuracy:\",round(accuracy_score(test_df['label'], test_rf_tfidf_final)*100, 2),'%')\n",
    "print(\"Precision:\",round(precision_score(test_df['label'], test_rf_tfidf_final)*100, 2), '%')\n",
    "print(\"Recall:\",round(recall_score(test_df['label'], test_rf_tfidf_final)*100, 2), '%')\n",
    "print(\"F1-score:\",round(f1_score(test_df['label'], test_rf_tfidf_final)*100, 2), '%')\n",
    "print(classification_report(test_df['label'], test_rf_tfidf_final))\n",
    "cnf_rf_matrix = confusion_matrix(test_df['label'], test_rf_tfidf_final)\n",
    "print(cnf_rf_matrix)"
   ]
  },
  {
   "cell_type": "code",
   "execution_count": 296,
   "id": "9691c2d0",
   "metadata": {},
   "outputs": [
    {
     "name": "stdout",
     "output_type": "stream",
     "text": [
      "Accuracy: 90.79 %\n",
      "Precision: 85.97 %\n",
      "Recall: 98.48 %\n",
      "F1-score: 91.8 %\n",
      "              precision    recall  f1-score   support\n",
      "\n",
      "           0       0.98      0.82      0.90      1020\n",
      "           1       0.86      0.98      0.92      1120\n",
      "\n",
      "    accuracy                           0.91      2140\n",
      "   macro avg       0.92      0.90      0.91      2140\n",
      "weighted avg       0.92      0.91      0.91      2140\n",
      "\n",
      "[[ 840  180]\n",
      " [  17 1103]]\n"
     ]
    }
   ],
   "source": [
    "svm_tfidf_pipeline_final = Pipeline([('svm_tfidf',TfidfVectorizer(ngram_range=(1,5), use_idf=True,smooth_idf=True)), ('svm_clf',svm.LinearSVC(penalty='l2'))])\n",
    "svm_tfidf_pipeline_final.fit(main_train_df['tweet'],main_train_df['label'])\n",
    "\n",
    "test_svm_tfidf_final = svm_tfidf_pipeline_final.predict(test_df['tweet'])\n",
    "\n",
    "print(\"Accuracy:\",round(accuracy_score(test_df['label'], test_svm_tfidf_final)*100, 2),'%')\n",
    "print(\"Precision:\",round(precision_score(test_df['label'], test_svm_tfidf_final)*100, 2), '%')\n",
    "print(\"Recall:\",round(recall_score(test_df['label'], test_svm_tfidf_final)*100, 2), '%')\n",
    "print(\"F1-score:\",round(f1_score(test_df['label'], test_svm_tfidf_final)*100, 2), '%')\n",
    "print(classification_report(test_df['label'], test_svm_tfidf_final))\n",
    "cnf_svm_matrix = confusion_matrix(test_df['label'], test_svm_tfidf_final)\n",
    "print(cnf_svm_matrix)"
   ]
  },
  {
   "cell_type": "code",
   "execution_count": 268,
   "id": "ec06c775",
   "metadata": {},
   "outputs": [
    {
     "name": "stdout",
     "output_type": "stream",
     "text": [
      "0.9249999999999999\n"
     ]
    }
   ],
   "source": [
    "roc_auc_rf = roc_auc_score(test_df['label'], test_rf_tfidf_final)\n",
    "print(roc_auc_rf)"
   ]
  },
  {
   "cell_type": "code",
   "execution_count": 298,
   "id": "d2017f01",
   "metadata": {},
   "outputs": [
    {
     "data": {
      "text/plain": [
       "Text(0.5, 257.44, 'Predicted label')"
      ]
     },
     "execution_count": 298,
     "metadata": {},
     "output_type": "execute_result"
    },
    {
     "data": {
      "image/png": "[encoded data removed]",
      "text/plain": [
       "<Figure size 432x288 with 2 Axes>"
      ]
     },
     "metadata": {
      "needs_background": "light"
     },
     "output_type": "display_data"
    }
   ],
   "source": [
    "# Code from https://www.datacamp.com/community/tutorials/understanding-logistic-regression-python\n",
    "\n",
    "# name  of classes\n",
    "class_names=[0,1] \n",
    "\n",
    "# Set fig and axes \n",
    "fig, ax = plt.subplots()\n",
    "tick_marks = np.arange(len(class_names))\n",
    "plt.xticks(tick_marks, class_names)\n",
    "plt.yticks(tick_marks, class_names)\n",
    "\n",
    "# Create heatmap\n",
    "sb.heatmap(pd.DataFrame(cnf_rf_matrix), annot=True, cmap=\"YlGnBu\" ,fmt='g')\n",
    "ax.xaxis.set_label_position(\"top\")\n",
    "plt.tight_layout()\n",
    "plt.title('Confusion matrix', y=1.1)\n",
    "plt.ylabel('Actual label')\n",
    "plt.xlabel('Predicted label')"
   ]
  },
  {
   "cell_type": "code",
   "execution_count": null,
   "id": "a4b534d9",
   "metadata": {},
   "outputs": [],
   "source": []
  }
 ],
 "metadata": {
  "kernelspec": {
   "display_name": "Python 3",
   "language": "python",
   "name": "python3"
  },
  "language_info": {
   "codemirror_mode": {
    "name": "ipython",
    "version": 3
   },
   "file_extension": ".py",
   "mimetype": "text/x-python",
   "name": "python",
   "nbconvert_exporter": "python",
   "pygments_lexer": "ipython3",
   "version": "3.8.7"
  }
 },
 "nbformat": 4,
 "nbformat_minor": 5
}
